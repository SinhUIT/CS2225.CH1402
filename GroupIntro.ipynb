{
  "nbformat": 4,
  "nbformat_minor": 0,
  "metadata": {
    "colab": {
      "name": "GroupIntro.ipynb",
      "provenance": [],
      "collapsed_sections": [],
      "authorship_tag": "ABX9TyNLkDU9Amkcs703TzCd3jUf",
      "include_colab_link": true
    },
    "kernelspec": {
      "name": "python3",
      "display_name": "Python 3"
    }
  },
  "cells": [
    {
      "cell_type": "markdown",
      "metadata": {
        "id": "view-in-github",
        "colab_type": "text"
      },
      "source": [
        "<a href=\"https://colab.research.google.com/github/SinhUIT/CS2225.CH1402/blob/dev/GroupIntro.ipynb\" target=\"_parent\"><img src=\"https://colab.research.google.com/assets/colab-badge.svg\" alt=\"Open In Colab\"/></a>"
      ]
    },
    {
      "cell_type": "markdown",
      "metadata": {
        "id": "kl1gEdwKeqYI",
        "colab_type": "text"
      },
      "source": [
        "# Thông tin nhóm\n",
        "\n",
        "1. Lê Hoàng Sinh - CH1901028\n",
        "2. Trần Thịnh Mạnh Đức - CH1902031"
      ]
    },
    {
      "cell_type": "markdown",
      "metadata": {
        "id": "04k2UrAYfhZt",
        "colab_type": "text"
      },
      "source": [
        "# Mô tả đồ án cuối kỳ\n",
        "1. Nhận diện biển số xe giúp cho việc kiểm tra ra vào tự động\n",
        "2. Đếm lượt xe ra vào trong 1 ngày để giúp thống kê lưu lượng xe ra vào nhà xe"
      ]
    }
  ]
}