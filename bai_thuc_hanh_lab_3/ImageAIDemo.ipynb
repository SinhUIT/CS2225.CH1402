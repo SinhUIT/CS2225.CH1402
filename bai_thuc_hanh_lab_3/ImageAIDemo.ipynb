{
  "nbformat": 4,
  "nbformat_minor": 0,
  "metadata": {
    "colab": {
      "name": "ImageAIDemo.ipynb",
      "provenance": [],
      "authorship_tag": "ABX9TyPiNfG0zwn744FmWeCSxc8J",
      "include_colab_link": true
    },
    "kernelspec": {
      "name": "python3",
      "display_name": "Python 3"
    }
  },
  "cells": [
    {
      "cell_type": "markdown",
      "metadata": {
        "id": "view-in-github",
        "colab_type": "text"
      },
      "source": [
        "<a href=\"https://colab.research.google.com/github/SinhUIT/CS2225.CH1402/blob/dev/bai_thuc_hanh_lab_3/ImageAIDemo.ipynb\" target=\"_parent\"><img src=\"https://colab.research.google.com/assets/colab-badge.svg\" alt=\"Open In Colab\"/></a>"
      ]
    },
    {
      "cell_type": "code",
      "metadata": {
        "id": "bZHr9uymxAut",
        "colab_type": "code",
        "colab": {}
      },
      "source": [
        "dfasdfasdf"
      ],
      "execution_count": null,
      "outputs": []
    }
  ]
}